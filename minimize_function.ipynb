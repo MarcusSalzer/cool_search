{
 "cells": [
  {
   "cell_type": "code",
   "execution_count": null,
   "metadata": {},
   "outputs": [],
   "source": [
    "from importlib import reload\n",
    "from time import sleep\n",
    "\n",
    "import numpy as np\n",
    "import polars as pl\n",
    "from plotly import express as px\n",
    "from plotly import io as pio\n",
    "\n",
    "import cool_search as cool\n",
    "\n",
    "plot_temp = pio.templates[\"plotly_dark\"]\n",
    "plot_temp.layout.width = 400\n",
    "plot_temp.layout.height = 300\n",
    "plot_temp.layout.autosize = False\n",
    "pio.templates.default = plot_temp\n"
   ]
  },
  {
   "cell_type": "markdown",
   "metadata": {},
   "source": [
    "## 1D"
   ]
  },
  {
   "cell_type": "code",
   "execution_count": null,
   "metadata": {},
   "outputs": [],
   "source": [
    "def f(x):\n",
    "    \"\"\"1D curve, with a clear minimum\n",
    "    - slightly slow\n",
    "    \"\"\"\n",
    "    sleep(0.1)\n",
    "    return np.sqrt((x - 2) ** 2 + 1) + np.sin(x / 2)\n",
    "\n",
    "\n",
    "X = np.linspace(-10, 10, 300)\n",
    "Y = f(X)\n",
    "px.line(x=X, y=Y)\n"
   ]
  },
  {
   "cell_type": "code",
   "execution_count": null,
   "metadata": {},
   "outputs": [],
   "source": [
    "reload(cool)\n",
    "search = cool.CoolSearch(\n",
    "    f,\n",
    "    {\"x\": (-10, 10)},\n",
    ")\n",
    "display(search.samples)\n",
    "print(search)\n",
    "\n",
    "print(\"example grid:\")\n",
    "display(search.get_grid(5))\n",
    "search.grid_search(20)\n",
    "\n",
    "px.scatter(\n",
    "    search.samples,\n",
    "    x=\"x\",\n",
    "    y=\"score\",\n",
    "    color=\"runtime\",\n",
    "    title=\"current samples\",\n",
    ")"
   ]
  },
  {
   "cell_type": "markdown",
   "metadata": {},
   "source": [
    "# 2D"
   ]
  },
  {
   "cell_type": "code",
   "execution_count": null,
   "metadata": {},
   "outputs": [],
   "source": [
    "reload(cool)\n",
    "def g(x, y):\n",
    "    \"\"\"2D function, with a clear minimum.\n",
    "    - slightly slow\"\"\"\n",
    "    sleep(0.1)\n",
    "    return np.sqrt((((x+1)**2 + y**2) - 2) ** 2 + 1) + 3 * np.sin((y) ** 2 / 2)\n",
    "\n",
    "\n",
    "search = cool.CoolSearch(\n",
    "    g,\n",
    "    dict.fromkeys([\"x\", \"y\"], (-10, 10)),\n",
    ")\n",
    "\n",
    "grid = search.get_random_samples(50)\n",
    "\n",
    "\n",
    "px.scatter(\n",
    "    grid,\n",
    "    x=\"x\",\n",
    "    y=\"y\",\n",
    "    color=g(grid[:, 0], grid[:, 1]),\n",
    "    title=f\"GT evaluated on {len(grid)} points\"\n",
    ")\n"
   ]
  },
  {
   "cell_type": "code",
   "execution_count": null,
   "metadata": {},
   "outputs": [],
   "source": [
    "search.grid_search(target_runtime=7,verbose=2,etr_update_step=10)\n",
    "min_points = search.samples.filter(pl.col(\"score\") == pl.col(\"score\").min())\n",
    "print(f\"mean of {len(min_points)} minimum points:\")\n",
    "\n",
    "px.scatter(\n",
    "    search.samples,\n",
    "    x=\"x\",\n",
    "    y=\"y\",\n",
    "    color=\"score\",\n",
    "    # size=\"runtime\",\n",
    "    title=f\"grid search of {len(search.samples)} points\"\n",
    ")\n"
   ]
  },
  {
   "cell_type": "code",
   "execution_count": null,
   "metadata": {},
   "outputs": [],
   "source": [
    "marginals = search.marginal_distr()\n",
    "\n",
    "marginals[\"y\"]"
   ]
  },
  {
   "cell_type": "code",
   "execution_count": null,
   "metadata": {},
   "outputs": [],
   "source": [
    "reload(cool)\n",
    "search = cool.CoolSearch(\n",
    "    g,\n",
    "    {\n",
    "        \"x\": (-10, 10),\n",
    "        \"y\": (-5, 5),\n",
    "    },\n",
    "    {\n",
    "        \"x\": \"float\",\n",
    "        \"y\": \"int\",\n",
    "    },\n",
    ")\n",
    "print(search)\n",
    "\n",
    "search.get_grid(50)"
   ]
  },
  {
   "cell_type": "code",
   "execution_count": null,
   "metadata": {},
   "outputs": [],
   "source": [
    "rng = np.random.default_rng()\n",
    "rng.integers(1,5)"
   ]
  },
  {
   "cell_type": "code",
   "execution_count": null,
   "metadata": {},
   "outputs": [],
   "source": []
  }
 ],
 "metadata": {
  "kernelspec": {
   "display_name": "timeseries",
   "language": "python",
   "name": "python3"
  },
  "language_info": {
   "codemirror_mode": {
    "name": "ipython",
    "version": 3
   },
   "file_extension": ".py",
   "mimetype": "text/x-python",
   "name": "python",
   "nbconvert_exporter": "python",
   "pygments_lexer": "ipython3",
   "version": "3.11.5"
  }
 },
 "nbformat": 4,
 "nbformat_minor": 2
}
