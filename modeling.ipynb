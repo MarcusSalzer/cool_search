{
 "cells": [
  {
   "cell_type": "code",
   "execution_count": 1,
   "metadata": {},
   "outputs": [],
   "source": [
    "from importlib import reload\n",
    "from time import sleep\n",
    "\n",
    "import numpy as np\n",
    "import polars as pl\n",
    "from plotly import express as px\n",
    "from plotly import io as pio\n",
    "\n",
    "import cool_search as cool\n"
   ]
  },
  {
   "cell_type": "code",
   "execution_count": null,
   "metadata": {},
   "outputs": [],
   "source": [
    "def f(x):\n",
    "    \"\"\"1D curve, with a clear minimum\n",
    "    - slightly slow\n",
    "    \"\"\"\n",
    "    sleep(0.1)\n",
    "    return np.sqrt((x - 2) ** 2 + 1) + np.sin(x / 2)\n",
    "\n",
    "\n",
    "X = np.linspace(-10, 10, 300)\n",
    "Y = f(X)\n",
    "px.line(x=X, y=Y)\n"
   ]
  }
 ],
 "metadata": {
  "kernelspec": {
   "display_name": "timeseries",
   "language": "python",
   "name": "python3"
  },
  "language_info": {
   "codemirror_mode": {
    "name": "ipython",
    "version": 3
   },
   "file_extension": ".py",
   "mimetype": "text/x-python",
   "name": "python",
   "nbconvert_exporter": "python",
   "pygments_lexer": "ipython3",
   "version": "3.11.5"
  }
 },
 "nbformat": 4,
 "nbformat_minor": 2
}
