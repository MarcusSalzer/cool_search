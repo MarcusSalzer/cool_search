{
 "cells": [
  {
   "cell_type": "code",
   "execution_count": 1,
   "metadata": {},
   "outputs": [],
   "source": [
    "from importlib import reload\n",
    "from time import sleep\n",
    "\n",
    "import numpy as np\n",
    "from plotly import graph_objects as go\n",
    "\n",
    "import coolsearch.search as csearch\n",
    "import coolsearch.models as cmodel\n",
    "import coolsearch.utility_functions as util\n",
    "import coolsearch.plotting as cplt\n",
    "\n",
    "reload(csearch)\n",
    "reload(cmodel)\n",
    "\n",
    "cplt.set_plotly_template()\n"
   ]
  },
  {
   "cell_type": "markdown",
   "metadata": {},
   "source": [
    "## 1D\n"
   ]
  },
  {
   "cell_type": "code",
   "execution_count": null,
   "metadata": {},
   "outputs": [],
   "source": [
    "def f(x):\n",
    "    return util.test_function_01(x, 0.1)\n",
    "\n",
    "\n",
    "X = np.linspace(-10, 10, 300)\n",
    "Y = f(X)\n",
    "go.Figure(go.Scatter(x=X, y=Y))\n"
   ]
  },
  {
   "cell_type": "code",
   "execution_count": null,
   "metadata": {},
   "outputs": [],
   "source": [
    "reload(csearch)\n",
    "search = csearch.CoolSearch(\n",
    "    f,\n",
    "    {\"x\": (-10, 10)},\n",
    ")\n",
    "display(search.samples)\n",
    "print(search)\n",
    "\n",
    "print(\"example grid:\")\n",
    "display(search.get_grid(5))\n",
    "search.grid_search(20)\n",
    "\n",
    "go.Figure(\n",
    "    go.Scatter(\n",
    "        x=search.samples[\"x\"],\n",
    "        y=search.samples[\"score\"],\n",
    "    )\n",
    ").update_layout(\n",
    "    title=\"current samples\",\n",
    ")"
   ]
  },
  {
   "cell_type": "markdown",
   "metadata": {},
   "source": [
    "# 2D\n"
   ]
  },
  {
   "cell_type": "code",
   "execution_count": 4,
   "metadata": {},
   "outputs": [],
   "source": [
    "reload(csearch)\n",
    "\n",
    "\n",
    "def g(x, y):\n",
    "    \"\"\"2D function, with a clear minimum.\n",
    "    - slightly slow\"\"\"\n",
    "    sleep(0.1)\n",
    "    return np.sqrt((((x + 1) ** 2 + y**2) - 2) ** 2 + 1) + 3 * np.sin((y) ** 2 / 2)\n",
    "\n",
    "\n",
    "search = csearch.CoolSearch(\n",
    "    g,\n",
    "    dict.fromkeys([\"x\", \"y\"], (-10, 10)),\n",
    ")\n",
    "\n",
    "grid = search.get_random_samples(50)"
   ]
  },
  {
   "cell_type": "code",
   "execution_count": null,
   "metadata": {},
   "outputs": [],
   "source": [
    "marginals = search.marginals()\n",
    "\n",
    "marginals[\"y\"]"
   ]
  },
  {
   "cell_type": "code",
   "execution_count": null,
   "metadata": {},
   "outputs": [],
   "source": [
    "reload(csearch)\n",
    "search = csearch.CoolSearch(\n",
    "    g,\n",
    "    {\n",
    "        \"x\": (-10, 10),\n",
    "        \"y\": (-5, 5),\n",
    "    },\n",
    "    {\n",
    "        \"x\": \"float\",\n",
    "        \"y\": \"int\",\n",
    "    },\n",
    ")\n",
    "print(search)"
   ]
  }
 ],
 "metadata": {
  "kernelspec": {
   "display_name": "timeseries",
   "language": "python",
   "name": "python3"
  },
  "language_info": {
   "codemirror_mode": {
    "name": "ipython",
    "version": 3
   },
   "file_extension": ".py",
   "mimetype": "text/x-python",
   "name": "python",
   "nbconvert_exporter": "python",
   "pygments_lexer": "ipython3",
   "version": "3.11.10"
  }
 },
 "nbformat": 4,
 "nbformat_minor": 2
}
