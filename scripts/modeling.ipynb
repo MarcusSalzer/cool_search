{
 "cells": [
  {
   "cell_type": "code",
   "execution_count": null,
   "metadata": {},
   "outputs": [],
   "source": [
    "from importlib import reload\n",
    "\n",
    "import numpy as np\n",
    "import polars as pl\n",
    "from plotly import graph_objects as go\n",
    "\n",
    "import coolsearch.models as cmodel\n",
    "import coolsearch.search as csearch\n",
    "import coolsearch.utility_functions as util\n",
    "import coolsearch.plotting as cplt\n",
    "\n",
    "cplt.set_plotly_template()\n",
    "\n",
    "reload(cmodel)\n",
    "reload(csearch)\n",
    "reload(util)"
   ]
  },
  {
   "cell_type": "code",
   "execution_count": null,
   "metadata": {},
   "outputs": [],
   "source": [
    "util.get_grid(\n",
    "    {\"x\": 3, \"y\": 2},\n",
    "    {\"x\": (-1, 1), \"y\": (-2, 2)},\n",
    "    dict.fromkeys([\"x\", \"y\"], \"float\"),\n",
    ")"
   ]
  },
  {
   "cell_type": "code",
   "execution_count": null,
   "metadata": {},
   "outputs": [],
   "source": [
    "f = util.test_function_01\n",
    "\n",
    "xx = np.linspace(-10, 10, 10000)\n",
    "yy = f(xx)\n",
    "\n",
    "idx_min_true = np.argmin(yy)\n",
    "print(\"true min\", xx[idx_min_true], yy[idx_min_true])"
   ]
  },
  {
   "cell_type": "code",
   "execution_count": null,
   "metadata": {},
   "outputs": [],
   "source": [
    "reload(cmodel)\n",
    "\n",
    "samples = pl.DataFrame({\"x\": np.linspace(-10, 10, 5)})\n",
    "samples = samples.with_columns(\n",
    "    pl.col(\"x\").map_elements(f, return_dtype=pl.Float64).alias(\"f\"),\n",
    ")\n",
    "\n",
    "\n",
    "model = cmodel.PolynomialModel(\n",
    "    samples=samples,\n",
    "    features=[\"x\"],\n",
    "    degree=2,\n",
    "    target=\"f\",\n",
    ")\n",
    "model.fit()\n",
    "\n",
    "print(model.polynomial)\n",
    "f_pred = model.predict()\n",
    "\n",
    "f_pred_poly = model.polynomial(samples[\"x\"])\n",
    "print(f_pred_poly)\n",
    "\n",
    "samples = samples.with_columns(f_pred=f_pred)\n",
    "display(samples)\n",
    "min_poly, poly_val = model.minimum_numeric(1000)\n",
    "display(min_poly)"
   ]
  },
  {
   "cell_type": "code",
   "execution_count": null,
   "metadata": {},
   "outputs": [],
   "source": [
    "fig = go.Figure(layout=dict(title=\"Polynomial model\"))\n",
    "fig.add_traces(\n",
    "    [\n",
    "        go.Scatter(x=samples[\"x\"], y=samples[\"f\"], mode=\"markers\", name=\"input\"),\n",
    "        go.Scatter(\n",
    "            x=poly_val[\"x\"], y=poly_val[\"value\"], mode=\"lines\", name=\"fitted poly\"\n",
    "        ),\n",
    "        go.Scatter(x=xx, y=yy, mode=\"lines\", name=\"true\"),\n",
    "    ]\n",
    ")\n"
   ]
  },
  {
   "cell_type": "code",
   "execution_count": null,
   "metadata": {},
   "outputs": [],
   "source": [
    "model.residuals"
   ]
  }
 ],
 "metadata": {
  "kernelspec": {
   "display_name": "timeseries",
   "language": "python",
   "name": "python3"
  },
  "language_info": {
   "codemirror_mode": {
    "name": "ipython",
    "version": 3
   },
   "file_extension": ".py",
   "mimetype": "text/x-python",
   "name": "python",
   "nbconvert_exporter": "python",
   "pygments_lexer": "ipython3",
   "version": "3.11.10"
  }
 },
 "nbformat": 4,
 "nbformat_minor": 2
}
