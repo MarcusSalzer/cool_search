{
 "cells": [
  {
   "cell_type": "code",
   "execution_count": null,
   "metadata": {},
   "outputs": [],
   "source": [
    "from importlib import reload\n",
    "from time import sleep\n",
    "\n",
    "import numpy as np\n",
    "import polars as pl\n",
    "from plotly import graph_objects as go\n",
    "\n",
    "import coolsearch.search as csearch\n",
    "import coolsearch.models as cmodel\n",
    "import coolsearch.utility_functions as util\n",
    "\n",
    "reload(csearch)\n",
    "reload(cmodel)\n",
    "\n",
    "util.set_plotly_template()\n",
    "\n",
    "SEED = 137"
   ]
  },
  {
   "cell_type": "code",
   "execution_count": null,
   "metadata": {},
   "outputs": [],
   "source": [
    "from sklearn import datasets, model_selection\n",
    "from sklearn.tree import DecisionTreeClassifier\n",
    "from sklearn.metrics import classification_report, accuracy_score\n",
    "from sklearn import base\n",
    "\n",
    "X, y = datasets.make_classification(10000, 10, random_state=SEED)\n",
    "X_train, X_val, y_train, y_val = model_selection.train_test_split(\n",
    "    X, y, random_state=SEED)"
   ]
  },
  {
   "cell_type": "code",
   "execution_count": null,
   "metadata": {},
   "outputs": [],
   "source": [
    "clf = DecisionTreeClassifier(random_state=SEED)\n",
    "clf.fit(X_train, y_train)\n",
    "\n",
    "print(classification_report(y_val, clf.predict(X_val), digits=4))"
   ]
  },
  {
   "cell_type": "code",
   "execution_count": null,
   "metadata": {},
   "outputs": [],
   "source": [
    "def clf_val(clf, param_range: dict, param_types: dict | None, X_train, X_val, Y_train, Y_val, score, fixed_params={}, seed=None):\n",
    "    \"\"\"Create search obj? fixed params?\n",
    "\n",
    "    Note: prefer deterministic classifier (or provide seed)?\"\"\"\n",
    "\n",
    "    def objective(**kwargs):\n",
    "        clf.set_params(**kwargs)\n",
    "        clf.fit(X_train, Y_train)\n",
    "\n",
    "        pred_val = clf.predict(X_val)\n",
    "\n",
    "        return score(Y_val, pred_val)\n",
    "\n",
    "    return csearch.CoolSearch(objective, param_range, param_types, fixed_params)"
   ]
  },
  {
   "cell_type": "code",
   "execution_count": null,
   "metadata": {},
   "outputs": [],
   "source": [
    "param_range = dict(\n",
    "    max_depth=(1, 30),\n",
    "    min_samples_leaf=(1, 50)\n",
    ")\n",
    "param_types = dict.fromkeys(param_range.keys(), \"int\")\n",
    "\n",
    "search = clf_val(DecisionTreeClassifier(random_state=SEED), param_range, param_types, X_train,\n",
    "                    X_val, y_train, y_val, score=accuracy_score)\n",
    "\n",
    "print(search)\n"
   ]
  },
  {
   "cell_type": "code",
   "execution_count": null,
   "metadata": {},
   "outputs": [],
   "source": [
    "_ = search.grid_search(20)"
   ]
  },
  {
   "cell_type": "code",
   "execution_count": null,
   "metadata": {},
   "outputs": [],
   "source": [
    "search.samples.sort(-pl.col(\"score\"))[0,:]"
   ]
  },
  {
   "cell_type": "code",
   "execution_count": null,
   "metadata": {},
   "outputs": [],
   "source": [
    "s = search.samples\n",
    "\n",
    "go.Figure(\n",
    "    go.Scatter(x=s[\"max_depth\"], y=s[\"min_samples_leaf\"],\n",
    "               marker_color=(s[\"score\"]), mode=\"markers\")\n",
    ")"
   ]
  },
  {
   "cell_type": "code",
   "execution_count": null,
   "metadata": {},
   "outputs": [],
   "source": [
    "marg = search.marginals()\n",
    "\n",
    "\n",
    "for k in marg.keys():\n",
    "    go.Figure(\n",
    "        go.Scatter(x=marg[k][k],\n",
    "                   y=marg[k][\"mean\"])\n",
    "    ).update_layout(title=k).show()"
   ]
  }
 ],
 "metadata": {
  "kernelspec": {
   "display_name": ".venv",
   "language": "python",
   "name": "python3"
  },
  "language_info": {
   "codemirror_mode": {
    "name": "ipython",
    "version": 3
   },
   "file_extension": ".py",
   "mimetype": "text/x-python",
   "name": "python",
   "nbconvert_exporter": "python",
   "pygments_lexer": "ipython3",
   "version": "3.11.9"
  }
 },
 "nbformat": 4,
 "nbformat_minor": 2
}
