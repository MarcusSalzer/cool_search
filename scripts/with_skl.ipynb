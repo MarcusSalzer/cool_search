{
 "cells": [
  {
   "cell_type": "code",
   "execution_count": null,
   "metadata": {},
   "outputs": [],
   "source": [
    "from importlib import reload\n",
    "\n",
    "import polars as pl\n",
    "from plotly import graph_objects as go\n",
    "\n",
    "import coolsearch.models as cmodel\n",
    "import coolsearch.search as csearch\n",
    "import coolsearch.plotting as cplt\n",
    "\n",
    "reload(csearch)\n",
    "reload(cmodel)\n",
    "\n",
    "cplt.set_plotly_template()\n",
    "\n",
    "SEED = 137"
   ]
  },
  {
   "cell_type": "markdown",
   "metadata": {},
   "source": [
    "## classification problem\n"
   ]
  },
  {
   "cell_type": "code",
   "execution_count": null,
   "metadata": {},
   "outputs": [],
   "source": [
    "from sklearn import datasets, model_selection\n",
    "from sklearn.metrics import accuracy_score, classification_report\n",
    "from sklearn.tree import DecisionTreeClassifier\n",
    "\n",
    "X, y = datasets.make_classification(1000, 5, random_state=SEED)\n",
    "X_train, X_val, y_train, y_val = model_selection.train_test_split(\n",
    "    X, y, random_state=SEED\n",
    ")"
   ]
  },
  {
   "cell_type": "code",
   "execution_count": null,
   "metadata": {},
   "outputs": [],
   "source": [
    "clf = DecisionTreeClassifier(random_state=SEED)\n",
    "clf.fit(X_train, y_train)\n",
    "\n",
    "print(classification_report(y_val, clf.predict(X_val), digits=4))"
   ]
  },
  {
   "cell_type": "markdown",
   "metadata": {},
   "source": [
    "## Grid search DT-model\n"
   ]
  },
  {
   "cell_type": "code",
   "execution_count": null,
   "metadata": {},
   "outputs": [],
   "source": [
    "param_range = dict(\n",
    "    max_depth=(1, 30), min_samples_leaf=(1, 50), min_samples_split=(2, 8)\n",
    ")\n",
    "param_types = dict.fromkeys(param_range.keys(), \"int\")\n",
    "\n",
    "search = csearch.CoolSearch.model_validate(\n",
    "    DecisionTreeClassifier(random_state=SEED),\n",
    "    param_range,\n",
    "    param_types,\n",
    "    data=(X_train, X_val, y_train, y_val),\n",
    "    loss_fn=accuracy_score,\n",
    "    invert=True,\n",
    ")\n",
    "\n",
    "_ = search.grid_search(steps=20)\n",
    "print(search)\n",
    "display(search.samples.sort(pl.col(\"score\"))[0, :])"
   ]
  },
  {
   "cell_type": "markdown",
   "metadata": {},
   "source": [
    "### Compare to sklearn\n"
   ]
  },
  {
   "cell_type": "code",
   "execution_count": null,
   "metadata": {},
   "outputs": [],
   "source": []
  },
  {
   "cell_type": "markdown",
   "metadata": {},
   "source": [
    "## Visualizations\n"
   ]
  },
  {
   "cell_type": "code",
   "execution_count": null,
   "metadata": {},
   "outputs": [],
   "source": [
    "s = search.samples\n",
    "\n",
    "go.Figure(\n",
    "    go.Scatter(\n",
    "        x=s[\"max_depth\"],\n",
    "        y=s[\"min_samples_leaf\"],\n",
    "        marker_color=(s[\"score\"]),\n",
    "        mode=\"markers\",\n",
    "    )\n",
    ")"
   ]
  },
  {
   "cell_type": "markdown",
   "metadata": {},
   "source": [
    "### polynomials & marginals\n"
   ]
  },
  {
   "cell_type": "code",
   "execution_count": null,
   "metadata": {},
   "outputs": [],
   "source": [
    "polymod = search.model_poly(4)\n",
    "polyval = polymod.predict(search.get_grid(100))\n",
    "\n",
    "margpoly = {}\n",
    "for k in polymod.features:\n",
    "    margpoly[k] = (\n",
    "        polyval.group_by(k)\n",
    "        .agg(\n",
    "            pl.col(\"y_pred\").mean().alias(\"mean\"),\n",
    "        )\n",
    "        .sort(k)\n",
    "    )"
   ]
  },
  {
   "cell_type": "code",
   "execution_count": null,
   "metadata": {},
   "outputs": [],
   "source": [
    "marg = search.marginals()\n",
    "margpoly = polymod.poly_marginals()\n"
   ]
  },
  {
   "cell_type": "code",
   "execution_count": null,
   "metadata": {},
   "outputs": [],
   "source": [
    "def marg_plot(\n",
    "    marginal: pl.DataFrame,\n",
    "    mean=True,\n",
    "    median=False,\n",
    "    intervals=False,\n",
    "):\n",
    "    \"\"\"Plot a marginal distribution\"\"\"\n",
    "\n",
    "    shade = \"rgba(255,200,200,0.2)\"\n",
    "    stat_cols = [\"mean\", \"std\", \"median\"]\n",
    "\n",
    "    feat = next(col for col in marginal.columns if col not in stat_cols)\n",
    "    fig = go.Figure(\n",
    "        layout=dict(\n",
    "            title=feat,\n",
    "            yaxis_title=\"value\",\n",
    "            margin=dict(t=50, l=20, r=10, b=10),\n",
    "            width=400,\n",
    "            height=200,\n",
    "        ),\n",
    "    )\n",
    "\n",
    "    mu = marginal[\"mean\"]\n",
    "    std = marginal[\"std\"]\n",
    "    # TODO PROPER INTERVALS\n",
    "    upper = mu + std\n",
    "    lower = mu - std\n",
    "\n",
    "    if mean:\n",
    "        fig.add_trace(go.Scatter(x=marginal[feat], y=mu, name=\"mean\"))\n",
    "    if median:\n",
    "        fig.add_trace(go.Scatter(x=marginal[feat], y=marginal[\"median\"], name=\"median\"))\n",
    "\n",
    "    if intervals:\n",
    "        fig.add_traces(\n",
    "            [\n",
    "                go.Scatter(\n",
    "                    x=marginal[feat],\n",
    "                    y=lower,\n",
    "                    name=\"lower\",\n",
    "                    mode=\"lines\",\n",
    "                    line_color=shade,\n",
    "                ),\n",
    "                go.Scatter(\n",
    "                    x=marginal[feat],\n",
    "                    y=upper,\n",
    "                    name=\"upper\",\n",
    "                    mode=\"lines\",\n",
    "                    fill=\"tonexty\",\n",
    "                    line_color=shade,\n",
    "                    fillcolor=shade,\n",
    "                ),\n",
    "            ]\n",
    "        )\n",
    "    return fig\n",
    "\n",
    "\n",
    "for k in marg.keys():\n",
    "    marg_plot(margpoly[k], mean=True, median=True, intervals=True).show()"
   ]
  },
  {
   "cell_type": "code",
   "execution_count": null,
   "metadata": {},
   "outputs": [],
   "source": []
  }
 ],
 "metadata": {
  "kernelspec": {
   "display_name": "_my_python",
   "language": "python",
   "name": "python3"
  },
  "language_info": {
   "codemirror_mode": {
    "name": "ipython",
    "version": 3
   },
   "file_extension": ".py",
   "mimetype": "text/x-python",
   "name": "python",
   "nbconvert_exporter": "python",
   "pygments_lexer": "ipython3",
   "version": "3.11.10"
  }
 },
 "nbformat": 4,
 "nbformat_minor": 2
}
